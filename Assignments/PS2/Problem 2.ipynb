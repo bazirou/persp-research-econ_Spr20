{
 "cells": [
  {
   "cell_type": "markdown",
   "metadata": {},
   "source": [
    "# Problem Set 2\n",
    "## Zhaoyang Chen "
   ]
  },
  {
   "cell_type": "code",
   "execution_count": 29,
   "metadata": {},
   "outputs": [],
   "source": [
    "import pandas as pd\n",
    "import numpy as np\n",
    "from sklearn.linear_model import LogisticRegression\n",
    "from sklearn.model_selection import train_test_split\n",
    "\n",
    "from dask.distributed import Client\n",
    "from dask import compute, delayed, multiprocessing\n",
    "\n",
    "import time\n",
    "import random\n",
    "import warnings\n",
    "warnings.filterwarnings(\"ignore\")"
   ]
  },
  {
   "cell_type": "markdown",
   "metadata": {},
   "source": [
    "## Question 1"
   ]
  },
  {
   "cell_type": "code",
   "execution_count": 19,
   "metadata": {},
   "outputs": [],
   "source": [
    "data = pd.read_csv('./data/Auto.csv')"
   ]
  },
  {
   "cell_type": "code",
   "execution_count": 20,
   "metadata": {},
   "outputs": [],
   "source": [
    "def check_mpg(mpg, median):\n",
    "    if mpg < median:\n",
    "        return 0\n",
    "    else:\n",
    "        return 1\n",
    "    \n",
    "def check_orgn_1(origin):\n",
    "    if origin == 1:\n",
    "        return 1\n",
    "    else:\n",
    "        return 0\n",
    "def check_orgn_2(origin):\n",
    "    if origin == 2:\n",
    "        return 1\n",
    "    else:\n",
    "        return 0\n",
    "\n",
    "data['mpg_high'] = data['mpg'].apply(check_mpg, args = (np.median(data['mpg']),))\n",
    "data['orgn1'] = data['origin'].apply(check_orgn_1)\n",
    "data['orgn2'] = data['origin'].apply(check_orgn_2)\n",
    "data['horsepower'][data['horsepower'] == '?'] = 100\n",
    "\n",
    "data = data[['cylinders', 'displacement', 'horsepower', 'weight',\n",
    "       'acceleration', 'year','orgn1','orgn2','mpg_high']]"
   ]
  },
  {
   "cell_type": "code",
   "execution_count": 21,
   "metadata": {},
   "outputs": [
    {
     "name": "stdout",
     "output_type": "stream",
     "text": [
      "The average error rate is 10.115926873670901%.\n",
      "The running time is 0.4440279006958008s.\n"
     ]
    }
   ],
   "source": [
    "def boot_LR(data):\n",
    "    train = data.sample(frac = 0.65, replace = True)\n",
    "    test = data.drop(train.index, axis = 0)\n",
    "    \n",
    "    X_train = train.drop('mpg_high', axis = 1)\n",
    "    y_train = train['mpg_high']\n",
    "    X_test = test.drop('mpg_high', axis = 1)\n",
    "    y_test = test['mpg_high']\n",
    "    \n",
    "    model = LogisticRegression().fit(X_train, y_train)\n",
    "    error = 1 - model.score(X_test, y_test)\n",
    "    \n",
    "    return error\n",
    "random.seed(1234)\n",
    "error_rate = []\n",
    "start_time = time.time()\n",
    "for i in range(100):\n",
    "    error_rate.append(boot_LR(data))\n",
    "print('The average error rate is {}%.'.format(np.mean(error_rate)*100))\n",
    "print('The running time is {}s.'.format(time.time()-start_time))"
   ]
  },
  {
   "cell_type": "code",
   "execution_count": 22,
   "metadata": {},
   "outputs": [
    {
     "data": {
      "application/vnd.jupyter.widget-view+json": {
       "model_id": "64221c2e9f8047a8855f61a51781fc42",
       "version_major": 2,
       "version_minor": 0
      },
      "text/plain": [
       "VBox(children=(HTML(value='<h2>LocalCluster</h2>'), HBox(children=(HTML(value='\\n<div>\\n  <style scoped>\\n    …"
      ]
     },
     "metadata": {},
     "output_type": "display_data"
    }
   ],
   "source": [
    "client = Client()\n",
    "client.cluster"
   ]
  },
  {
   "cell_type": "code",
   "execution_count": 35,
   "metadata": {},
   "outputs": [
    {
     "name": "stdout",
     "output_type": "stream",
     "text": [
      "The average error rate is 12.918660287081341%.\n",
      "The running time is 0.49239301681518555s\n"
     ]
    }
   ],
   "source": [
    "start_time = time.time()\n",
    "def parallel_boot_LR(boot_num, seed, data):\n",
    "    random.seed(seed)\n",
    "#     print('Working on Bootstrap', boot_num)\n",
    "    \n",
    "    train = data.sample(frac = 0.65, replace = True)\n",
    "    test = data.drop(train.index, axis = 0)\n",
    "    \n",
    "    X_train = train.drop('mpg_high', axis = 1)\n",
    "    y_train = train['mpg_high']\n",
    "    X_test = test.drop('mpg_high', axis = 1)\n",
    "    y_test = test['mpg_high']\n",
    "    \n",
    "    model = LogisticRegression().fit(X_train, y_train)\n",
    "    error = 1 - model.score(X_test, y_test)\n",
    "    \n",
    "    return error\n",
    "\n",
    "lazy_values = []\n",
    "for i in range(100):\n",
    "    lazy_values.append(delayed(parallel_boot_LR)(i, 1234, data))\n",
    "result = compute(*lazy_values, scheduler=multiprocessing.get)\n",
    "    \n",
    "\n",
    "print('The average error rate is {}%.'.format((parallel_boot_LR(100,1234,data)*100)))\n",
    "print('The running time is {}s'.format(time.time()-start_time))\n",
    "    "
   ]
  }
 ],
 "metadata": {
  "kernelspec": {
   "display_name": "Python 3",
   "language": "python",
   "name": "python3"
  },
  "language_info": {
   "codemirror_mode": {
    "name": "ipython",
    "version": 3
   },
   "file_extension": ".py",
   "mimetype": "text/x-python",
   "name": "python",
   "nbconvert_exporter": "python",
   "pygments_lexer": "ipython3",
   "version": "3.7.1"
  }
 },
 "nbformat": 4,
 "nbformat_minor": 2
}
